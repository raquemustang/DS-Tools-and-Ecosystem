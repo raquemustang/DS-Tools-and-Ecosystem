{
  "metadata": {
    "kernelspec": {
      "name": "python",
      "display_name": "Python (Pyodide)",
      "language": "python"
    },
    "language_info": {
      "codemirror_mode": {
        "name": "python",
        "version": 3
      },
      "file_extension": ".py",
      "mimetype": "text/x-python",
      "name": "python",
      "nbconvert_exporter": "python",
      "pygments_lexer": "ipython3",
      "version": "3.8"
    }
  },
  "nbformat_minor": 5,
  "nbformat": 4,
  "cells": [
    {
      "id": "6a6acaea-d763-445b-9859-32bfa6ee99f2",
      "cell_type": "markdown",
      "source": "# Data Science Tools and Ecosystem",
      "metadata": {}
    },
    {
      "id": "30607e83-e138-41bb-835a-4c60168d8f54",
      "cell_type": "markdown",
      "source": "In this notebook, Data Science Tools and Ecosystem are summarized.",
      "metadata": {}
    },
    {
      "id": "9d7874bb-ee88-43c7-a30e-5dbd21c22415",
      "cell_type": "markdown",
      "source": "Some of the popular languages that Data Scientists use are:\n1. Python\n2. R\n3. SQL\n4. JavaScript\n5. Java\n6. Scala",
      "metadata": {}
    },
    {
      "id": "3065845e-12e3-43d2-a631-f4d83b83eb54",
      "cell_type": "markdown",
      "source": "Some of the commonly used libraries used by Data Scientists include:\n1. Matplotlib\n2. TensorFlow\n3. Keras\n4. NumPy\n5. Pandas\n6. Seaborn",
      "metadata": {}
    },
    {
      "id": "497f1148-2959-4115-a861-ffa2bb925291",
      "cell_type": "markdown",
      "source": "Some data science tools include:\n\n| Data Science Tools |\n|--------------------|\n| Jupyter Notebooks  |\n| RStudio            |\n| VS Code            |\n| Apache Spark       |\n| IBM Watson Studio  |",
      "metadata": {}
    },
    {
      "id": "75097fb2-d036-4662-b3a3-985b2d4b6211",
      "cell_type": "markdown",
      "source": "### Below are a few examples of evaluating arithmetic expressions in Python",
      "metadata": {}
    },
    {
      "id": "a1c4a52e-64ea-465b-b88e-e0680e392422",
      "cell_type": "code",
      "source": "# This a simple arithmetic expression to mutiply then add integers\n(3*4)+5",
      "metadata": {
        "trusted": true
      },
      "outputs": [
        {
          "execution_count": 1,
          "output_type": "execute_result",
          "data": {
            "text/plain": "17"
          },
          "metadata": {}
        }
      ],
      "execution_count": 1
    },
    {
      "id": "d8d67ec7-4c89-4b9f-92c1-8725b8531343",
      "cell_type": "code",
      "source": "# This will convert 200 minutes to hours by diving by 60\n200/60",
      "metadata": {
        "trusted": true
      },
      "outputs": [
        {
          "execution_count": 2,
          "output_type": "execute_result",
          "data": {
            "text/plain": "3.3333333333333335"
          },
          "metadata": {}
        }
      ],
      "execution_count": 2
    },
    {
      "id": "483c70f3-9a79-456e-905f-a6479c20ab5e",
      "cell_type": "markdown",
      "source": "**Objectives:** \n- List popular languages for data science;\n- Name some commonly used libraries by data scientists;\n- Tabulate various data science tools.",
      "metadata": {}
    },
    {
      "id": "9dff1ced-795d-488a-9e24-3fc3d3ab4d34",
      "cell_type": "markdown",
      "source": "## Author\nraque_mustang",
      "metadata": {}
    },
    {
      "id": "805bc8aa-83c5-47eb-8cba-7c1da828ebf1",
      "cell_type": "code",
      "source": "",
      "metadata": {
        "trusted": true
      },
      "outputs": [],
      "execution_count": null
    }
  ]
}